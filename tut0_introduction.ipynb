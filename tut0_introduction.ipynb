{
  "cells": [
    {
      "cell_type": "code",
      "execution_count": 4,
      "id": "c4c5436b",
      "metadata": {
        "id": "c4c5436b"
      },
      "outputs": [
        {
          "name": "stdout",
          "output_type": "stream",
          "text": [
            "Requirement already satisfied: casadi in c:\\users\\kupuk\\appdata\\local\\packages\\pythonsoftwarefoundation.python.3.11_qbz5n2kfra8p0\\localcache\\local-packages\\python311\\site-packages (3.6.7)\n",
            "Requirement already satisfied: numpy in c:\\users\\kupuk\\appdata\\local\\packages\\pythonsoftwarefoundation.python.3.11_qbz5n2kfra8p0\\localcache\\local-packages\\python311\\site-packages (from casadi) (1.26.3)\n"
          ]
        },
        {
          "name": "stderr",
          "output_type": "stream",
          "text": [
            "\n",
            "[notice] A new release of pip is available: 24.0 -> 24.2\n",
            "[notice] To update, run: C:\\Users\\kupuk\\AppData\\Local\\Microsoft\\WindowsApps\\PythonSoftwareFoundation.Python.3.11_qbz5n2kfra8p0\\python.exe -m pip install --upgrade pip\n"
          ]
        }
      ],
      "source": [
        "# install dependencies\n",
        "!pip install casadi"
      ]
    },
    {
      "cell_type": "markdown",
      "id": "0fce8dca",
      "metadata": {
        "id": "0fce8dca"
      },
      "source": [
        "# Safe Autonomy Tutorial: 2D Drone Example\n",
        "\n",
        "In this tutorial, you will be getting comfortable with Colab notebooks and do some basic exercises in python to get back into the swing of things! You will also get an introduction to the running example used throughout the course, taking a look at the dynamics model of a 2D drone and run some initial simulations."
      ]
    },
    {
      "cell_type": "markdown",
      "id": "4227c7f4",
      "metadata": {
        "id": "4227c7f4"
      },
      "source": [
        "## Exercise 0\n",
        "\n",
        "\n",
        "* Take a look at the [Basic Colab Feature Overview](https://colab.research.google.com/notebooks/basic_features_overview.ipynb). You will probably not need all of the mentioned features.\n",
        "* The following exercises and tutorials will require basic python knowledge. If you need a quick refresher, check out this [Python Tutorial](https://colab.research.google.com/github/cs231n/cs231n.github.io/blob/master/python-colab.ipynb).\n"
      ]
    },
    {
      "cell_type": "markdown",
      "id": "5667e63a",
      "metadata": {
        "id": "5667e63a"
      },
      "source": [
        "## Exercise 1 - Python Warm-up\n",
        "\n",
        "The Fibonacci numbers are the sequence of numbers $\\{F_n\\}_{n=1}^\\infty$ defined by the linear recurrence equation\n",
        "\n",
        "$$F_n = F_{n-1} + F_{n-2}$$\n",
        "\n",
        "with $F_1 = F_2 = 1$, and conventionally defining $F_0 = 0$. We can thus calculate some of the first few Fibonacci numbers as 0, 1, 1, 2,\n",
        "3, 5, 8, 13, 21, ... and so forth.\n",
        "\n",
        "1. Create a code cell under this text cell.\n",
        "2. Write a recursive python function that returns the n-th fibonnaci number, where n is given as an input parameter.\n",
        "3. Print some example results using your function.\n",
        "\n",
        "### Voluntary Bonus\n",
        "When computing all fibonacci numbers from 0 to n, it is not very efficient to call the recursive function multiple times. Write a more efficient version by either caching previous results and/or generating the numbers in an iterative fashion."
      ]
    },
    {
      "cell_type": "code",
      "execution_count": 9,
      "id": "3L84HP6aJMXu",
      "metadata": {
        "colab": {
          "base_uri": "https://localhost:8080/"
        },
        "id": "3L84HP6aJMXu",
        "outputId": "52b72126-aa53-4251-a35b-ce534e7afce1"
      },
      "outputs": [
        {
          "name": "stdout",
          "output_type": "stream",
          "text": [
            "[0, 1, 2, 3, 5, 8, 13, 21, 34, 55]\n"
          ]
        }
      ],
      "source": [
        "def fibo(n):\n",
        "  curr_num = 1\n",
        "  prev_num = 0\n",
        "  fibo_arr = []\n",
        "  for i in range(n):\n",
        "    # print(\"curr_num, prev_num\")\n",
        "    # print(curr_num, prev_num)\n",
        "    if i == 0:\n",
        "      fibo_arr.append(0)\n",
        "      continue\n",
        "    curr_num = curr_num + prev_num\n",
        "    prev_num = curr_num - prev_num\n",
        "    fibo_arr.append(curr_num)\n",
        "  return fibo_arr\n",
        "\n",
        "\n",
        "fibo_arr = fibo(10)\n",
        "print(fibo_arr)"
      ]
    },
    {
      "cell_type": "markdown",
      "id": "f42496d2",
      "metadata": {
        "id": "f42496d2"
      },
      "source": [
        "## Exercise 2 - Plotting\n",
        "\n",
        "[matplotlib](https://matplotlib.org/) is a powerful python library that features a multitude of plotting functionalities. For examples on how to use it, check the tutorials mentioned in exercise 0.\n",
        "\n",
        "\n",
        "1. Plot the graph of the first 100 fibonacci numbers, with $n$ on the x-axis and $F_n$ on the y-axis.\n",
        "2. Make sure to label all axes and give your plot a heading.\n"
      ]
    },
    {
      "cell_type": "code",
      "execution_count": 19,
      "id": "e7d76208",
      "metadata": {
        "id": "e7d76208"
      },
      "outputs": [
        {
          "data": {
            "image/png": "[encoded data removed]",
            "text/plain": [
              "<Figure size 640x480 with 1 Axes>"
            ]
          },
          "metadata": {},
          "output_type": "display_data"
        }
      ],
      "source": [
        "import numpy as np\n",
        "import matplotlib.pyplot as plt\n",
        "%matplotlib inline\n",
        "\n",
        "\n",
        "# PUT YOUR CODE HERE\n",
        "fig,ax = plt.subplots()\n",
        "ax.set_xlabel('n')\n",
        "ax.set_ylabel('Fibonacci(n)')\n",
        "n = 100\n",
        "x = range(n)\n",
        "y = fibo(n)\n",
        "ax.plot(x, y, 'o-')\n",
        "plt.title('Fibonacci Sequence')\n",
        "plt.show()\n"
      ]
    },
    {
      "cell_type": "markdown",
      "id": "05bf5c60",
      "metadata": {
        "id": "05bf5c60"
      },
      "source": [
        "## Continuous-time dynamics"
      ]
    },
    {
      "cell_type": "markdown",
      "id": "1af77ca8",
      "metadata": {
        "id": "1af77ca8"
      },
      "source": [
        "In this section, we're gonna have a look at the dynamics model of a 2D drone which is typically needed for verification or controller synthesis which is a big part of this course. The true dynamics of a drone, or any other classic robotic system, can be obtained by using Newton and Euler Equations. For now,\n",
        "we consider a simplified kinematic model of the drone:\n",
        "\n",
        "$$\n",
        "\\begin{align}\n",
        "    \\begin{bmatrix}\n",
        "    \\dot{x}\\\\\n",
        "    \\dot{y}\\\\\n",
        "    \\dot{\\theta}\n",
        "    \\end{bmatrix} = \\begin{bmatrix}\n",
        "    - u_1 \\sin(\\theta)\\\\\n",
        "    u_1 \\cos(\\theta)\\\\\n",
        "    u_2\n",
        "    \\end{bmatrix}\n",
        "\\end{align}\n",
        "$$\n",
        "\n",
        "Note that our dynamical system $\\dot{\\mathbf{x}} = \\mathbf{f} (\\mathbf{x}, \\mathbf{u})$ is defined by a three dimensional state vector $\\mathbf{x} \\in \\mathbb{R}^3$ and a two dimensional control input $\\mathbf{u} \\in \\mathbb{R}^2$. Here, the control input $u_1$ corresponds to the velocity in the direction of the drones heading and $u_2$ allows us to control the drone's angular velocity."
      ]
    },
    {
      "cell_type": "markdown",
      "id": "fb9f3c02",
      "metadata": {
        "id": "fb9f3c02"
      },
      "source": [
        "Let's import some packages and define the dynamics of the Drone as a callable function!"
      ]
    },
    {
      "cell_type": "code",
      "execution_count": 20,
      "id": "db1b08d8",
      "metadata": {
        "id": "db1b08d8"
      },
      "outputs": [],
      "source": [
        "import numpy as np\n",
        "from math import *\n",
        "\n",
        "\n",
        "def dynamics(x, u):\n",
        "    \"\"\"\n",
        "    Inputs: current state of the system x, control input u\n",
        "    u = [u1, u2]\n",
        "    x = [x, y, theta]\n",
        "    Output: derivative of the state vector\n",
        "    dx = [dx, dy, dtheta]\n",
        "    \"\"\"\n",
        "    \n",
        "    # PUT YOUR CODE HERE\n",
        "\n",
        "    dx = [-u[0]*sin(x[2]) , u[0]*cos(x[2]), u[1]]\n",
        "    return dx"
      ]
    },
    {
      "cell_type": "markdown",
      "id": "734984e2",
      "metadata": {
        "id": "734984e2"
      },
      "source": [
        "Next, let us explore how our dynamical system behaves under a certain control input. Let's consider the case where the drone is oriented in an upright position and the thrusters are generating a sinusoidal velocity profile. In this case we will define our control input as"
      ]
    },
    {
      "cell_type": "code",
      "execution_count": 21,
      "id": "b89da51f",
      "metadata": {
        "id": "b89da51f"
      },
      "outputs": [],
      "source": [
        "def control_input(x, t):\n",
        "    return np.array([0.5 * sin(5 * t), 0.0])"
      ]
    },
    {
      "cell_type": "markdown",
      "id": "13dcaf05",
      "metadata": {
        "id": "13dcaf05"
      },
      "source": [
        "What we are interested in now is how our dynamical system in (1) evolves over time given our control signal $\\mathbf{u}(t)$. To do so, we need to solve the ordinary differential equation (1) which is essentially an initial value problem (IVP)."
      ]
    },
    {
      "cell_type": "code",
      "execution_count": 24,
      "id": "e6da070e",
      "metadata": {
        "id": "e6da070e"
      },
      "outputs": [
        {
          "name": "stdout",
          "output_type": "stream",
          "text": [
            "<function <lambda> at 0x00000264640A8180>\n",
            "Solution shape: (3, 500)\n"
          ]
        }
      ],
      "source": [
        "from scipy.integrate import solve_ivp\n",
        "\n",
        "\n",
        "# Define controlled vector field F(x)\n",
        "F = lambda t, x: dynamics(x, control_input(x, t))\n",
        "\n",
        "print(F)\n",
        "# define time span\n",
        "tspan = [0., 5.]\n",
        "\n",
        "# define initial state\n",
        "x0 = np.array([0., 0., 0.])\n",
        "\n",
        "# solve IVP\n",
        "sol = solve_ivp(F, tspan, x0, t_eval=np.arange(tspan[0], tspan[1], 0.01))\n",
        "\n",
        "print(\"Solution shape: \" + str(sol.y.shape))"
      ]
    },
    {
      "cell_type": "markdown",
      "id": "c9d235c6",
      "metadata": {
        "id": "c9d235c6"
      },
      "source": [
        "Now, we can have a look at the state evolution over time. We are expecting to see a sinusoidal movement in $y$-direction, while the other states remain zero."
      ]
    },
    {
      "cell_type": "code",
      "execution_count": 28,
      "id": "7d9f627a",
      "metadata": {
        "id": "7d9f627a"
      },
      "outputs": [
        {
          "data": {
            "text/plain": [
              "<matplotlib.legend.Legend at 0x264646aecd0>"
            ]
          },
          "execution_count": 28,
          "metadata": {},
          "output_type": "execute_result"
        },
        {
          "data": {
            "image/png": "[encoded data removed]",
            "text/plain": [
              "<Figure size 1000x500 with 2 Axes>"
            ]
          },
          "metadata": {},
          "output_type": "display_data"
        }
      ],
      "source": [
        "import matplotlib.pyplot as plt\n",
        "\n",
        "x_data = sol.y[0, :]\n",
        "y_data = sol.y[1, :]\n",
        "theta_data = sol.y[2, :]\n",
        "t = sol.t\n",
        "\n",
        "fig = plt.figure(figsize=(10,5))\n",
        "ax1 = fig.add_subplot(121)\n",
        "ax1.plot(t, x_data)\n",
        "ax1.plot(t, y_data)\n",
        "ax1.set_xlabel(\"time in [s]\")\n",
        "ax1.set_ylabel(\"position in [m]\")\n",
        "ax1.legend([\"x\", \"y\"])\n",
        "\n",
        "# Extract controls\n",
        "u1 = [control_input(sol.y[:, i], t[i])[0] for i in range(len(t))]\n",
        "u2 = [control_input(sol.y[:, i], t[i])[1] for i in range(len(t))]\n",
        "\n",
        "ax2 = fig.add_subplot(122)\n",
        "ax2.plot(t, u1)\n",
        "ax2.plot(t, u2)\n",
        "ax2.plot(t, theta_data)\n",
        "ax2.set_xlabel(\"time in [s]\")\n",
        "ax2.set_ylabel(\"Control input\")\n",
        "ax2.legend([\"u1\", \"u2\", \"theta\"])"
      ]
    },
    {
      "cell_type": "markdown",
      "id": "1d721ba9",
      "metadata": {
        "id": "1d721ba9"
      },
      "source": [
        "We can also create a small visualization of the drone as follows"
      ]
    },
    {
      "cell_type": "code",
      "execution_count": 29,
      "id": "3c40c5e4",
      "metadata": {
        "id": "3c40c5e4"
      },
      "outputs": [
        {
          "ename": "RuntimeError",
          "evalue": "Requested MovieWriter (ffmpeg) not available",
          "output_type": "error",
          "traceback": [
            "\u001b[1;31m---------------------------------------------------------------------------\u001b[0m",
            "\u001b[1;31mRuntimeError\u001b[0m                              Traceback (most recent call last)",
            "Cell \u001b[1;32mIn[29], line 32\u001b[0m\n\u001b[0;32m     28\u001b[0m animation \u001b[38;5;241m=\u001b[39m FuncAnimation(fig, animation_func, fargs\u001b[38;5;241m=\u001b[39m((x_data, y_data, theta_data),),\n\u001b[0;32m     29\u001b[0m                           frames\u001b[38;5;241m=\u001b[39m\u001b[38;5;28mlen\u001b[39m(t), interval\u001b[38;5;241m=\u001b[39m\u001b[38;5;241m20\u001b[39m, blit\u001b[38;5;241m=\u001b[39m\u001b[38;5;28;01mTrue\u001b[39;00m)\n\u001b[0;32m     31\u001b[0m \u001b[38;5;66;03m# render in google colab\u001b[39;00m\n\u001b[1;32m---> 32\u001b[0m HTML(\u001b[43manimation\u001b[49m\u001b[38;5;241;43m.\u001b[39;49m\u001b[43mto_html5_video\u001b[49m\u001b[43m(\u001b[49m\u001b[43m)\u001b[49m)\n",
            "File \u001b[1;32m~\\AppData\\Local\\Packages\\PythonSoftwareFoundation.Python.3.11_qbz5n2kfra8p0\\LocalCache\\local-packages\\Python311\\site-packages\\matplotlib\\animation.py:1285\u001b[0m, in \u001b[0;36mAnimation.to_html5_video\u001b[1;34m(self, embed_limit)\u001b[0m\n\u001b[0;32m   1282\u001b[0m path \u001b[38;5;241m=\u001b[39m Path(tmpdir, \u001b[38;5;124m\"\u001b[39m\u001b[38;5;124mtemp.m4v\u001b[39m\u001b[38;5;124m\"\u001b[39m)\n\u001b[0;32m   1283\u001b[0m \u001b[38;5;66;03m# We create a writer manually so that we can get the\u001b[39;00m\n\u001b[0;32m   1284\u001b[0m \u001b[38;5;66;03m# appropriate size for the tag\u001b[39;00m\n\u001b[1;32m-> 1285\u001b[0m Writer \u001b[38;5;241m=\u001b[39m \u001b[43mwriters\u001b[49m\u001b[43m[\u001b[49m\u001b[43mmpl\u001b[49m\u001b[38;5;241;43m.\u001b[39;49m\u001b[43mrcParams\u001b[49m\u001b[43m[\u001b[49m\u001b[38;5;124;43m'\u001b[39;49m\u001b[38;5;124;43manimation.writer\u001b[39;49m\u001b[38;5;124;43m'\u001b[39;49m\u001b[43m]\u001b[49m\u001b[43m]\u001b[49m\n\u001b[0;32m   1286\u001b[0m writer \u001b[38;5;241m=\u001b[39m Writer(codec\u001b[38;5;241m=\u001b[39m\u001b[38;5;124m'\u001b[39m\u001b[38;5;124mh264\u001b[39m\u001b[38;5;124m'\u001b[39m,\n\u001b[0;32m   1287\u001b[0m                 bitrate\u001b[38;5;241m=\u001b[39mmpl\u001b[38;5;241m.\u001b[39mrcParams[\u001b[38;5;124m'\u001b[39m\u001b[38;5;124manimation.bitrate\u001b[39m\u001b[38;5;124m'\u001b[39m],\n\u001b[0;32m   1288\u001b[0m                 fps\u001b[38;5;241m=\u001b[39m\u001b[38;5;241m1000.\u001b[39m \u001b[38;5;241m/\u001b[39m \u001b[38;5;28mself\u001b[39m\u001b[38;5;241m.\u001b[39m_interval)\n\u001b[0;32m   1289\u001b[0m \u001b[38;5;28mself\u001b[39m\u001b[38;5;241m.\u001b[39msave(\u001b[38;5;28mstr\u001b[39m(path), writer\u001b[38;5;241m=\u001b[39mwriter)\n",
            "File \u001b[1;32m~\\AppData\\Local\\Packages\\PythonSoftwareFoundation.Python.3.11_qbz5n2kfra8p0\\LocalCache\\local-packages\\Python311\\site-packages\\matplotlib\\animation.py:148\u001b[0m, in \u001b[0;36mMovieWriterRegistry.__getitem__\u001b[1;34m(self, name)\u001b[0m\n\u001b[0;32m    146\u001b[0m \u001b[38;5;28;01mif\u001b[39;00m \u001b[38;5;28mself\u001b[39m\u001b[38;5;241m.\u001b[39mis_available(name):\n\u001b[0;32m    147\u001b[0m     \u001b[38;5;28;01mreturn\u001b[39;00m \u001b[38;5;28mself\u001b[39m\u001b[38;5;241m.\u001b[39m_registered[name]\n\u001b[1;32m--> 148\u001b[0m \u001b[38;5;28;01mraise\u001b[39;00m \u001b[38;5;167;01mRuntimeError\u001b[39;00m(\u001b[38;5;124mf\u001b[39m\u001b[38;5;124m\"\u001b[39m\u001b[38;5;124mRequested MovieWriter (\u001b[39m\u001b[38;5;132;01m{\u001b[39;00mname\u001b[38;5;132;01m}\u001b[39;00m\u001b[38;5;124m) not available\u001b[39m\u001b[38;5;124m\"\u001b[39m)\n",
            "\u001b[1;31mRuntimeError\u001b[0m: Requested MovieWriter (ffmpeg) not available"
          ]
        },
        {
          "data": {
            "image/png": "[encoded data removed]",
            "text/plain": [
              "<Figure size 700x500 with 1 Axes>"
            ]
          },
          "metadata": {},
          "output_type": "display_data"
        }
      ],
      "source": [
        "%matplotlib inline\n",
        "from matplotlib.animation import FuncAnimation\n",
        "from IPython.display import HTML\n",
        "\n",
        "\n",
        "def animation_func(i, data):\n",
        "    x = data[0]\n",
        "    y = data[1]\n",
        "    theta = data[2]\n",
        "    # Drone dimension: width l\n",
        "    l = 0.3\n",
        "    p1 = [x[i] + cos(theta[i]) * l/2, y[i] + sin(theta[i]) * l/2]\n",
        "    p2 = [x[i] - cos(theta[i]) * l/2, y[i] - sin(theta[i]) * l/2]\n",
        "    line1.set_xdata([p1[0], p2[0]])\n",
        "    line1.set_ydata([p1[1], p2[1]])\n",
        "    # Plot trajectory\n",
        "    pt, = ax.plot([x[i]], [y[i]], \"g.\", markersize=1)\n",
        "\n",
        "    return line1, pt\n",
        "\n",
        "# print(len(t))\n",
        "fig = plt.figure(figsize=(7,5))\n",
        "ax = fig.add_subplot(111)\n",
        "ax.set_xlim([-0.5, 0.5])\n",
        "ax.set_ylim([-0.5, 0.5])\n",
        "line1, = ax.plot([-0.15, 0.15], [0., 0.], 'ko-', lw=1.5, markersize=5)\n",
        "\n",
        "animation = FuncAnimation(fig, animation_func, fargs=((x_data, y_data, theta_data),),\n",
        "                          frames=len(t), interval=20, blit=True)\n",
        "\n",
        "# render in google colab\n",
        "HTML(animation.to_html5_video())\n"
      ]
    },
    {
      "cell_type": "markdown",
      "id": "8524d9c6",
      "metadata": {
        "id": "8524d9c6"
      },
      "source": [
        "## Discrete-time Dynamics"
      ]
    },
    {
      "cell_type": "markdown",
      "id": "ec732e8c",
      "metadata": {
        "id": "ec732e8c"
      },
      "source": [
        "Continuous-time dynamics are most often used on a rather lower level of a robotic system, as for example in control design. The true dynamical system will of course evolve in continuous time but in order to create sophisticated planning algorithms, we are interested in abstractions of the system which simplify our calculations. A very common approach is to consider the discrete-time dynamics of a robot in which we only consider the state of the robot at specific points in time, i.e. $\\mathbf{x}_k = \\mathbf{x}(t_k)$. Another important argument why one should consider the discrete time dynamics is that our planning & control algorithms are implemented on computers & micro-controllers which cannot generate continuous time signals which means that our inputs to the robot are always on a discrete level."
      ]
    },
    {
      "cell_type": "markdown",
      "id": "66751fcc",
      "metadata": {
        "id": "66751fcc"
      },
      "source": [
        "In many applications, we start to model our robotic system in continuous time $\\dot{\\mathbf{x}} = \\mathbf{f}(\\mathbf{x}, \\mathbf{u})$ using, e.g. Newton Euler equations, and discretize the dynamics using an explicit Euler scheme where we leverage finite differences to approximate\n",
        "$$\n",
        "    \\dot{\\mathbf{x}} \\approx \\frac{\\mathbf{x}_{k+1} - \\mathbf{x}_{k}}{\\Delta t}, \\hspace{1cm} \\Delta t = t_{k+1} -t_k\n",
        "$$\n",
        "where $\\Delta t$ is a constant sampling time. Therefore, we can obtain the time-discretized dynamics as\n",
        "$$\n",
        "    \\mathbf{x}_{k+1} = \\mathbf{x}_{k} + \\Delta t \\cdot \\mathbf{f}(\\mathbf{x}_k, \\mathbf{u}_k)\n",
        "$$\n",
        "and hence our discrete-time drone dynamics are given by\n",
        "$$\n",
        "\\begin{bmatrix}\n",
        "    x_{k+1}\\\\\n",
        "    y_{k+1}\\\\\n",
        "    \\theta_{k+1}\n",
        "    \\end{bmatrix} = \\begin{bmatrix}\n",
        "    x_k - u_1 \\Delta t sin(\\theta)\\\\\n",
        "    y_k + u_1 \\Delta t cos(\\theta)\\\\\n",
        "     \\theta _k + u_2 \\Delta t\n",
        "    \\end{bmatrix}.\n",
        "$$\n"
      ]
    },
    {
      "cell_type": "markdown",
      "id": "5360a8a4",
      "metadata": {
        "id": "5360a8a4"
      },
      "source": [
        "The great advantage of using discrete-time dynamics is that we can easily simulate our system since we don't need to solve a differential equation anymore."
      ]
    },
    {
      "cell_type": "code",
      "execution_count": null,
      "id": "df7c5adc",
      "metadata": {
        "id": "df7c5adc"
      },
      "outputs": [],
      "source": [
        "def discrete_dynamics(x, u):\n",
        "    \"\"\"\n",
        "    Inputs: current state of the system x, control input u\n",
        "    Output: next state vector\n",
        "    \"\"\"\n",
        "    dt = 0.1\n",
        "    # PUT YOUR CODE HERE\n",
        "#     x_next = ...\n",
        "    return x_next"
      ]
    },
    {
      "cell_type": "markdown",
      "id": "5f857fc3",
      "metadata": {
        "id": "5f857fc3"
      },
      "source": [
        "Now, we will solve our first planning problem in which we want to find a path to a desired goal position. To do so, we utilize trajectory optimization concepts. The problem we want to solve can be mathematically formulated as\n",
        "\n",
        "$$\n",
        "\\begin{aligned}\n",
        "\t\\min_{\\mathbf{u}_{1:N-1}, \\mathbf{x}_{1:N}} \\quad &\\sum_{t=1}^{N} J(\\mathbf{x}_t, \\mathbf{u}_t)\\\\\n",
        "\t\\textrm{s.t.  } \\quad  &\\mathbf{x}_{t+1} = \\mathbf{f}\\left(\\mathbf{x}_t, \\mathbf{u}_t\\right) \\hspace{0.5cm} &&\\forall t = 1, \\cdots, N-1\\\\\n",
        "\t& \\mathbf{x}_N \\in \\mathcal{X}_g, \\mathbf{x}_0 = \\mathbf{x}(t_0)\\\\\n",
        "    \\quad &0 \\leq u_1 \\leq 0.5 &&\\forall t=1, \\cdots, N-1.\n",
        "    \\end{aligned}\n",
        "$$\n",
        "To formulate and solve the optimization problem, we make use of an efficient open source nonlinear optimization tool called CasADi. This toolbox allows us to easily formulate and solve an optimization problem without diving into the theory of optimization. Some of the structure is already given in the following codeblock, what you need to do is to define the constraints of the optimization problem."
      ]
    },
    {
      "cell_type": "code",
      "execution_count": null,
      "id": "ba9aefb7",
      "metadata": {
        "id": "ba9aefb7"
      },
      "outputs": [],
      "source": [
        "import casadi\n",
        "\n",
        "opti = casadi.Opti()\n",
        "\n",
        "# Trajectory length\n",
        "N = 100\n",
        "dt = 0.1\n",
        "\n",
        "# Initial & Goal states\n",
        "x0 = [0., 0., 0.]\n",
        "xG = [0.8, 0.3, 0.]\n",
        "\n",
        "\n",
        "# state trajectory\n",
        "X = opti.variable(3, N)\n",
        "\n",
        "# controls\n",
        "U = opti.variable(2,N)\n",
        "\n",
        "opti.minimize(sum([(X[0, i] - xG[0])**2 + (X[1, i] - xG[1])**2 + (X[2, i] - xG[2])**2 + 5*U[0, i]**2 + 2*U[1, i]**2 for i in range(N)]))\n",
        "\n",
        "# Dynamics constraints\n",
        "for k in range(N-1):\n",
        "    opti.subject_to(X[0, k+1] - X[0, k] - U[0, k] * dt * casadi.sin(X[2, k]) == 0)\n",
        "    opti.subject_to(X[1, k+1] - X[1, k] + U[0, k] * dt * casadi.cos(X[2, k]) == 0)\n",
        "    opti.subject_to(X[2, k+1] - X[2, k] + U[1, k] * dt == 0)\n",
        "\n",
        "# Initial State Constraints\n",
        "# ...\n",
        "\n",
        "# Goal Constraints\n",
        "# ...\n",
        "\n",
        "# Actuator saturation constraints\n",
        "# ...\n",
        "\n",
        "opti.solver('ipopt')\n",
        "sol = opti.solve()\n",
        "\n",
        "traj = sol.value(X)\n",
        "controls = sol.value(U)"
      ]
    },
    {
      "cell_type": "markdown",
      "id": "71698acc",
      "metadata": {
        "id": "71698acc"
      },
      "source": [
        "After solving the optimization problem, we can visualize our drone again:"
      ]
    },
    {
      "cell_type": "code",
      "execution_count": null,
      "id": "b534b4b8",
      "metadata": {
        "id": "b534b4b8"
      },
      "outputs": [],
      "source": [
        "fig = plt.figure(figsize=(10,5))\n",
        "ax1 = fig.add_subplot(121)\n",
        "ax1.plot(traj[0, :], traj[1, :])\n",
        "ax1.set_xlabel(\"x in [m]\")\n",
        "ax1.set_ylabel(\"y in [m]\")\n",
        "\n",
        "# Extract controls\n",
        "u1 = controls[0, :]\n",
        "u2 = controls[1, :]\n",
        "t = [i * dt for i in range(N)]\n",
        "ax2 = fig.add_subplot(122)\n",
        "ax2.plot(t, u1)\n",
        "ax2.plot(t, u2)\n",
        "ax2.set_xlabel(\"time in [s]\")\n",
        "ax2.set_ylabel(\"Control input\")"
      ]
    },
    {
      "cell_type": "code",
      "execution_count": null,
      "id": "684ad270",
      "metadata": {
        "id": "684ad270"
      },
      "outputs": [],
      "source": [
        "fig = plt.figure(figsize=(7,5))\n",
        "ax = fig.add_subplot(111)\n",
        "ax.set_xlim([-0.2, 1.])\n",
        "ax.set_ylim([-0.4, 1.])\n",
        "line1, = ax.plot([x0[0]-0.15, x0[0] + 0.15], [0., 0.], 'ko-', lw=1.5, markersize=5)\n",
        "\n",
        "x_data = traj[0, :]\n",
        "y_data = traj[1, :]\n",
        "theta_data = traj[2, :]\n",
        "animation = FuncAnimation(fig, animation_func, fargs=((x_data, y_data, theta_data),),\n",
        "                          frames=len(t), interval=20, blit=True)\n",
        "\n",
        "HTML(animation.to_html5_video())"
      ]
    }
  ],
  "metadata": {
    "colab": {
      "provenance": []
    },
    "kernelspec": {
      "display_name": "Python 3",
      "language": "python",
      "name": "python3"
    },
    "language_info": {
      "codemirror_mode": {
        "name": "ipython",
        "version": 3
      },
      "file_extension": ".py",
      "mimetype": "text/x-python",
      "name": "python",
      "nbconvert_exporter": "python",
      "pygments_lexer": "ipython3",
      "version": "3.11.9"
    }
  },
  "nbformat": 4,
  "nbformat_minor": 5
}
